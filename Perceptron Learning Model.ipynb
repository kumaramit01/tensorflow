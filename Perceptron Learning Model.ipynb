{
 "cells": [
  {
   "cell_type": "markdown",
   "metadata": {},
   "source": [
    "## Perceptron Learning Model\n"
   ]
  },
  {
   "cell_type": "markdown",
   "metadata": {},
   "source": [
    "* Select some random weight\n",
    "* Pick all training examples one at a time in any order\n",
    "    * Plug the training example through the perceptron, If the output unit is correct, leave the weights alone.\n",
    "    * If the output is misclassified as 0, add the input vector to the weight vector.\n",
    "    * If the output is misclassified as 1, subtract the input vector from the weight vector.\n",
    "* If there is a weight that can correctly classify all the examples -this method is gauranteed to work but this condition is rarely if ever met    "
   ]
  },
  {
   "cell_type": "markdown",
   "metadata": {},
   "source": [
    "## Drawback\n",
    "Minsky and Pappert showed that if the patterns formed a group (for e.g. translations from wrap around of the pixels forms a group), the perceptron learning model cannot distinguish between the patterns\n"
   ]
  },
  {
   "cell_type": "markdown",
   "metadata": {},
   "source": [
    "The feature selection becomes a very important part of the perceptron learning model, since there is no hidden unit.\n",
    "\n",
    "Networks without hiden units are very limited in the input-output mappings they can learn to model; additional units don't help because they are still linear, fixed output non-linearities are not enough. We need multiple layers of adaptive non-linear hidden units, that adapts all the weights not just the last layer.\n",
    "Learning of the weights in these hidden units is equivalent to learning the features.\n",
    "\n",
    "A perceptron learning model involves getting weights closer to a good set of weights, the average of two good weights is also a good weight in the perceptron model -a convex problem"
   ]
  },
  {
   "cell_type": "code",
   "execution_count": 1,
   "metadata": {
    "collapsed": true
   },
   "outputs": [],
   "source": [
    "import tensorflow as tf"
   ]
  },
  {
   "cell_type": "code",
   "execution_count": null,
   "metadata": {
    "collapsed": true
   },
   "outputs": [],
   "source": [
    "W= tf.Variable([.3],dtype=tf.float32)\n",
    "b= tf.Variable([-0.3],dtype=tf.float32)\n",
    "x = tf.placeholder(tf.float32)\n",
    "linear_model = W * x + b"
   ]
  },
  {
   "cell_type": "markdown",
   "metadata": {},
   "source": [
    "# Linear Neuron (linear filters)\n",
    "\n",
    "In linear neuron, the actual output values get closer to the target values as the learning procedure progresses, which is different from the Perceptron learning procedure.\n",
    "$$y = \\Sigma w_i x_i = w^T x$$\n",
    "Where $W \\rightarrow $ weight vector and $x \\rightarrow $ input vector and y is neuron's estimate of the desired output\n",
    "\n",
    "Error = $\\frac{1}{2}\\Sigma_{n\\equiv training}( y^i\\acute - y^i )^2$\n"
   ]
  },
  {
   "cell_type": "markdown",
   "metadata": {},
   "source": [
    "## Delta Rule\n",
    "\n",
    "Change of the weights is proportional to the sum of error derivatives of all training cases, it obtained by taking the partial derivative of the Error above with respect to weights\n",
    "\n",
    "$\\Delta w_i = -\\epsilon \\frac{\\partial E}{\\partial w_i} = \\Sigma_n \\epsilon x^n_i (t^n - y^n) $\n"
   ]
  },
  {
   "cell_type": "markdown",
   "metadata": {},
   "source": [
    "## Logistic Neuron\n",
    "\n",
    "Logisitic function's derivative is smooth, unlike the binary threshold neuron, this makes it preferred.\n",
    "\n",
    "$z = b  + \\Sigma_i x_i w_i$\n",
    "\n",
    "$y = \\frac {1}{1+ e^-z}$\n",
    "\n",
    "$\\frac{dy}{dx} = y(1-y)$\n",
    "\n"
   ]
  },
  {
   "cell_type": "code",
   "execution_count": 15,
   "metadata": {
    "collapsed": false
   },
   "outputs": [
    {
     "data": {
      "image/png": "[encoded data removed]",
      "text/plain": [
       "<matplotlib.figure.Figure at 0x7fcac76aa950>"
      ]
     },
     "metadata": {},
     "output_type": "display_data"
    }
   ],
   "source": [
    "import numpy as np\n",
    "import matplotlib.pyplot as plt\n",
    "\n",
    "Z = np.linspace(-10, 10, 256, endpoint=True)\n",
    "y = 1.0/(1+np.exp(-Z))\n",
    "plt.plot(Z,y)\n",
    "plt.show()\n",
    "\n"
   ]
  },
  {
   "cell_type": "markdown",
   "metadata": {},
   "source": [
    "## Back Propogation example\n",
    "https://mattmazur.com/2015/03/17/a-step-by-step-backpropagation-example/"
   ]
  }
 ],
 "metadata": {
  "kernelspec": {
   "display_name": "Python 2",
   "language": "python",
   "name": "python2"
  },
  "language_info": {
   "codemirror_mode": {
    "name": "ipython",
    "version": 2
   },
   "file_extension": ".py",
   "mimetype": "text/x-python",
   "name": "python",
   "nbconvert_exporter": "python",
   "pygments_lexer": "ipython2",
   "version": "2.7.13"
  }
 },
 "nbformat": 4,
 "nbformat_minor": 2
}
