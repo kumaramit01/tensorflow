{
 "cells": [
  {
   "cell_type": "markdown",
   "metadata": {},
   "source": [
    "## Perceptron Learning Model\n"
   ]
  },
  {
   "cell_type": "markdown",
   "metadata": {},
   "source": [
    "* Select some random weight\n",
    "* Pick all training examples one at a time in any order\n",
    "    * Plug the training example through the perceptron, If the output unit is correct, leave the weights alone.\n",
    "    * If the output is misclassified as 0, add the input vector to the weight vector.\n",
    "    * If the output is misclassified as 1, subtract the input vector from the weight vector.\n",
    "* If there is a weight that can correctly classify all the examples -this method is gauranteed to work but this condition is rarely if ever met    "
   ]
  },
  {
   "cell_type": "markdown",
   "metadata": {},
   "source": [
    "## Drawback\n",
    "Minsky and Pappert showed that if the patterns formed a group (for e.g. translations from wrap around of the pixels forms a group), the perceptron learning model cannot distinguish between the patterns\n"
   ]
  },
  {
   "cell_type": "markdown",
   "metadata": {},
   "source": [
    "The feature selection becomes a very important part of the perceptron learning model, since there is no hidden unit.\n",
    "\n",
    "Networks without hiden units are very limited in the input-output mappings they can learn to model; additional units don't help because they are still linear, fixed output non-linearities are not enough. We need multiple layers of adaptive non-linear hidden units, that adapts all the weights not just the last layer.\n",
    "Learning of the weights in these hidden units is equivalent to learning the features."
   ]
  },
  {
   "cell_type": "code",
   "execution_count": 1,
   "metadata": {
    "collapsed": true
   },
   "outputs": [],
   "source": [
    "import tensorflow as tf"
   ]
  },
  {
   "cell_type": "code",
   "execution_count": null,
   "metadata": {
    "collapsed": true
   },
   "outputs": [],
   "source": [
    "W= tf.Variable([.3],dtype=tf.float32)\n",
    "b= tf.Variable([-0.3],dtype=tf.float32)\n",
    "x = tf.placeholder(tf.float32)\n",
    "linear_model = W * x + b"
   ]
  }
 ],
 "metadata": {
  "kernelspec": {
   "display_name": "Python 2",
   "language": "python",
   "name": "python2"
  },
  "language_info": {
   "codemirror_mode": {
    "name": "ipython",
    "version": 2
   },
   "file_extension": ".py",
   "mimetype": "text/x-python",
   "name": "python",
   "nbconvert_exporter": "python",
   "pygments_lexer": "ipython2",
   "version": "2.7.13"
  }
 },
 "nbformat": 4,
 "nbformat_minor": 2
}
